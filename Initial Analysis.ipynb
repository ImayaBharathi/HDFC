{
 "cells": [
  {
   "cell_type": "code",
   "execution_count": 1,
   "metadata": {},
   "outputs": [
    {
     "name": "stderr",
     "output_type": "stream",
     "text": [
      "/home/whirldata/py35/lib/python3.5/importlib/_bootstrap.py:222: RuntimeWarning: numpy.ufunc size changed, may indicate binary incompatibility. Expected 216, got 192\n",
      "  return f(*args, **kwds)\n",
      "/home/whirldata/py35/lib/python3.5/importlib/_bootstrap.py:222: RuntimeWarning: numpy.ufunc size changed, may indicate binary incompatibility. Expected 216, got 192\n",
      "  return f(*args, **kwds)\n"
     ]
    }
   ],
   "source": [
    "import pandas as pd\n",
    "from sklearn.model_selection import train_test_split\n",
    "from xgboost import XGBClassifier\n",
    "from sklearn.metrics import accuracy_score\n",
    "from sklearn.ensemble import RandomForestClassifier"
   ]
  },
  {
   "cell_type": "code",
   "execution_count": 2,
   "metadata": {},
   "outputs": [
    {
     "name": "stderr",
     "output_type": "stream",
     "text": [
      "<string>:2: DtypeWarning: Columns (746,835) have mixed types. Specify dtype option on import or set low_memory=False.\n"
     ]
    },
    {
     "name": "stdout",
     "output_type": "stream",
     "text": [
      "CPU times: user 6.61 s, sys: 314 ms, total: 6.92 s\n",
      "Wall time: 6.94 s\n"
     ]
    }
   ],
   "source": [
    "%time tdata = pd.read_csv(\"Train.csv\")"
   ]
  },
  {
   "cell_type": "code",
   "execution_count": 3,
   "metadata": {},
   "outputs": [
    {
     "data": {
      "text/html": [
       "<div>\n",
       "<style scoped>\n",
       "    .dataframe tbody tr th:only-of-type {\n",
       "        vertical-align: middle;\n",
       "    }\n",
       "\n",
       "    .dataframe tbody tr th {\n",
       "        vertical-align: top;\n",
       "    }\n",
       "\n",
       "    .dataframe thead th {\n",
       "        text-align: right;\n",
       "    }\n",
       "</style>\n",
       "<table border=\"1\" class=\"dataframe\">\n",
       "  <thead>\n",
       "    <tr style=\"text-align: right;\">\n",
       "      <th></th>\n",
       "      <th>Col2</th>\n",
       "      <th>Col3</th>\n",
       "      <th>Col4</th>\n",
       "      <th>Col5</th>\n",
       "      <th>Col6</th>\n",
       "      <th>Col7</th>\n",
       "      <th>Col8</th>\n",
       "      <th>Col9</th>\n",
       "      <th>Col10</th>\n",
       "      <th>Col11</th>\n",
       "      <th>...</th>\n",
       "      <th>Col2388</th>\n",
       "      <th>Col2389</th>\n",
       "      <th>Col2390</th>\n",
       "      <th>Col2391</th>\n",
       "      <th>Col2392</th>\n",
       "      <th>Col2393</th>\n",
       "      <th>Col2394</th>\n",
       "      <th>Col2395</th>\n",
       "      <th>Col2396</th>\n",
       "      <th>Col2397</th>\n",
       "    </tr>\n",
       "  </thead>\n",
       "  <tbody>\n",
       "    <tr>\n",
       "      <th>count</th>\n",
       "      <td>17521.000000</td>\n",
       "      <td>1.752100e+04</td>\n",
       "      <td>1.752100e+04</td>\n",
       "      <td>1.752100e+04</td>\n",
       "      <td>1.752100e+04</td>\n",
       "      <td>1.752100e+04</td>\n",
       "      <td>1.752100e+04</td>\n",
       "      <td>1.752100e+04</td>\n",
       "      <td>1.752100e+04</td>\n",
       "      <td>1.752100e+04</td>\n",
       "      <td>...</td>\n",
       "      <td>17521.000000</td>\n",
       "      <td>17521.000000</td>\n",
       "      <td>17521.000000</td>\n",
       "      <td>17521.000000</td>\n",
       "      <td>16347.000000</td>\n",
       "      <td>16347.000000</td>\n",
       "      <td>16335.000000</td>\n",
       "      <td>16347.00000</td>\n",
       "      <td>16347.000000</td>\n",
       "      <td>16335.000000</td>\n",
       "    </tr>\n",
       "    <tr>\n",
       "      <th>mean</th>\n",
       "      <td>0.100508</td>\n",
       "      <td>3.158967e+04</td>\n",
       "      <td>2.046540e+04</td>\n",
       "      <td>2.502937e+04</td>\n",
       "      <td>2.789385e+04</td>\n",
       "      <td>2.597734e+04</td>\n",
       "      <td>3.302600e+04</td>\n",
       "      <td>2.912693e+04</td>\n",
       "      <td>2.971069e+04</td>\n",
       "      <td>3.617392e+04</td>\n",
       "      <td>...</td>\n",
       "      <td>0.736202</td>\n",
       "      <td>0.595343</td>\n",
       "      <td>0.773757</td>\n",
       "      <td>0.639005</td>\n",
       "      <td>55.540038</td>\n",
       "      <td>55.015416</td>\n",
       "      <td>35.180961</td>\n",
       "      <td>17.99584</td>\n",
       "      <td>17.539977</td>\n",
       "      <td>10.359657</td>\n",
       "    </tr>\n",
       "    <tr>\n",
       "      <th>std</th>\n",
       "      <td>0.300685</td>\n",
       "      <td>7.612897e+05</td>\n",
       "      <td>7.136908e+05</td>\n",
       "      <td>6.018207e+05</td>\n",
       "      <td>6.091245e+05</td>\n",
       "      <td>7.211998e+05</td>\n",
       "      <td>7.488433e+05</td>\n",
       "      <td>2.175595e+05</td>\n",
       "      <td>2.981508e+05</td>\n",
       "      <td>2.612427e+05</td>\n",
       "      <td>...</td>\n",
       "      <td>0.910828</td>\n",
       "      <td>0.784953</td>\n",
       "      <td>0.921805</td>\n",
       "      <td>0.806286</td>\n",
       "      <td>53.269618</td>\n",
       "      <td>52.697069</td>\n",
       "      <td>34.956016</td>\n",
       "      <td>24.83891</td>\n",
       "      <td>24.685954</td>\n",
       "      <td>18.476447</td>\n",
       "    </tr>\n",
       "    <tr>\n",
       "      <th>min</th>\n",
       "      <td>0.000000</td>\n",
       "      <td>-8.555719e+07</td>\n",
       "      <td>-8.555719e+07</td>\n",
       "      <td>-7.011955e+07</td>\n",
       "      <td>-7.100920e+07</td>\n",
       "      <td>-8.480658e+07</td>\n",
       "      <td>-9.016250e+07</td>\n",
       "      <td>0.000000e+00</td>\n",
       "      <td>0.000000e+00</td>\n",
       "      <td>0.000000e+00</td>\n",
       "      <td>...</td>\n",
       "      <td>0.000000</td>\n",
       "      <td>0.000000</td>\n",
       "      <td>0.000000</td>\n",
       "      <td>0.000000</td>\n",
       "      <td>0.000000</td>\n",
       "      <td>0.000000</td>\n",
       "      <td>0.000000</td>\n",
       "      <td>0.00000</td>\n",
       "      <td>0.000000</td>\n",
       "      <td>0.000000</td>\n",
       "    </tr>\n",
       "    <tr>\n",
       "      <th>25%</th>\n",
       "      <td>0.000000</td>\n",
       "      <td>2.742337e+03</td>\n",
       "      <td>2.007863e+03</td>\n",
       "      <td>1.857013e+03</td>\n",
       "      <td>2.562647e+03</td>\n",
       "      <td>2.973188e+03</td>\n",
       "      <td>3.822170e+03</td>\n",
       "      <td>1.824148e+03</td>\n",
       "      <td>1.787456e+03</td>\n",
       "      <td>3.505288e+03</td>\n",
       "      <td>...</td>\n",
       "      <td>0.000000</td>\n",
       "      <td>0.000000</td>\n",
       "      <td>0.000000</td>\n",
       "      <td>0.000000</td>\n",
       "      <td>21.000000</td>\n",
       "      <td>21.000000</td>\n",
       "      <td>12.000000</td>\n",
       "      <td>9.00000</td>\n",
       "      <td>9.000000</td>\n",
       "      <td>5.000000</td>\n",
       "    </tr>\n",
       "    <tr>\n",
       "      <th>50%</th>\n",
       "      <td>0.000000</td>\n",
       "      <td>9.308060e+03</td>\n",
       "      <td>6.642857e+03</td>\n",
       "      <td>6.236503e+03</td>\n",
       "      <td>8.464355e+03</td>\n",
       "      <td>1.036962e+04</td>\n",
       "      <td>1.303534e+04</td>\n",
       "      <td>5.705458e+03</td>\n",
       "      <td>5.536147e+03</td>\n",
       "      <td>8.832639e+03</td>\n",
       "      <td>...</td>\n",
       "      <td>0.000000</td>\n",
       "      <td>0.000000</td>\n",
       "      <td>0.000000</td>\n",
       "      <td>0.000000</td>\n",
       "      <td>42.000000</td>\n",
       "      <td>42.000000</td>\n",
       "      <td>27.000000</td>\n",
       "      <td>13.00000</td>\n",
       "      <td>13.000000</td>\n",
       "      <td>7.000000</td>\n",
       "    </tr>\n",
       "    <tr>\n",
       "      <th>75%</th>\n",
       "      <td>0.000000</td>\n",
       "      <td>3.053873e+04</td>\n",
       "      <td>2.156093e+04</td>\n",
       "      <td>2.068154e+04</td>\n",
       "      <td>2.773849e+04</td>\n",
       "      <td>2.645998e+04</td>\n",
       "      <td>3.359204e+04</td>\n",
       "      <td>1.852222e+04</td>\n",
       "      <td>1.753976e+04</td>\n",
       "      <td>2.341911e+04</td>\n",
       "      <td>...</td>\n",
       "      <td>1.000000</td>\n",
       "      <td>1.000000</td>\n",
       "      <td>1.000000</td>\n",
       "      <td>1.000000</td>\n",
       "      <td>74.000000</td>\n",
       "      <td>73.000000</td>\n",
       "      <td>47.000000</td>\n",
       "      <td>21.00000</td>\n",
       "      <td>21.000000</td>\n",
       "      <td>12.000000</td>\n",
       "    </tr>\n",
       "    <tr>\n",
       "      <th>max</th>\n",
       "      <td>1.000000</td>\n",
       "      <td>1.459355e+07</td>\n",
       "      <td>1.288980e+07</td>\n",
       "      <td>1.478068e+07</td>\n",
       "      <td>1.178075e+07</td>\n",
       "      <td>1.879882e+07</td>\n",
       "      <td>1.514035e+07</td>\n",
       "      <td>1.125630e+07</td>\n",
       "      <td>2.788633e+07</td>\n",
       "      <td>1.314762e+07</td>\n",
       "      <td>...</td>\n",
       "      <td>4.000000</td>\n",
       "      <td>4.000000</td>\n",
       "      <td>4.000000</td>\n",
       "      <td>4.000000</td>\n",
       "      <td>1305.000000</td>\n",
       "      <td>1305.000000</td>\n",
       "      <td>1211.000000</td>\n",
       "      <td>2205.00000</td>\n",
       "      <td>2205.000000</td>\n",
       "      <td>1831.000000</td>\n",
       "    </tr>\n",
       "  </tbody>\n",
       "</table>\n",
       "<p>8 rows × 2392 columns</p>\n",
       "</div>"
      ],
      "text/plain": [
       "               Col2          Col3          Col4          Col5          Col6  \\\n",
       "count  17521.000000  1.752100e+04  1.752100e+04  1.752100e+04  1.752100e+04   \n",
       "mean       0.100508  3.158967e+04  2.046540e+04  2.502937e+04  2.789385e+04   \n",
       "std        0.300685  7.612897e+05  7.136908e+05  6.018207e+05  6.091245e+05   \n",
       "min        0.000000 -8.555719e+07 -8.555719e+07 -7.011955e+07 -7.100920e+07   \n",
       "25%        0.000000  2.742337e+03  2.007863e+03  1.857013e+03  2.562647e+03   \n",
       "50%        0.000000  9.308060e+03  6.642857e+03  6.236503e+03  8.464355e+03   \n",
       "75%        0.000000  3.053873e+04  2.156093e+04  2.068154e+04  2.773849e+04   \n",
       "max        1.000000  1.459355e+07  1.288980e+07  1.478068e+07  1.178075e+07   \n",
       "\n",
       "               Col7          Col8          Col9         Col10         Col11  \\\n",
       "count  1.752100e+04  1.752100e+04  1.752100e+04  1.752100e+04  1.752100e+04   \n",
       "mean   2.597734e+04  3.302600e+04  2.912693e+04  2.971069e+04  3.617392e+04   \n",
       "std    7.211998e+05  7.488433e+05  2.175595e+05  2.981508e+05  2.612427e+05   \n",
       "min   -8.480658e+07 -9.016250e+07  0.000000e+00  0.000000e+00  0.000000e+00   \n",
       "25%    2.973188e+03  3.822170e+03  1.824148e+03  1.787456e+03  3.505288e+03   \n",
       "50%    1.036962e+04  1.303534e+04  5.705458e+03  5.536147e+03  8.832639e+03   \n",
       "75%    2.645998e+04  3.359204e+04  1.852222e+04  1.753976e+04  2.341911e+04   \n",
       "max    1.879882e+07  1.514035e+07  1.125630e+07  2.788633e+07  1.314762e+07   \n",
       "\n",
       "       ...       Col2388       Col2389       Col2390       Col2391  \\\n",
       "count  ...  17521.000000  17521.000000  17521.000000  17521.000000   \n",
       "mean   ...      0.736202      0.595343      0.773757      0.639005   \n",
       "std    ...      0.910828      0.784953      0.921805      0.806286   \n",
       "min    ...      0.000000      0.000000      0.000000      0.000000   \n",
       "25%    ...      0.000000      0.000000      0.000000      0.000000   \n",
       "50%    ...      0.000000      0.000000      0.000000      0.000000   \n",
       "75%    ...      1.000000      1.000000      1.000000      1.000000   \n",
       "max    ...      4.000000      4.000000      4.000000      4.000000   \n",
       "\n",
       "            Col2392       Col2393       Col2394      Col2395       Col2396  \\\n",
       "count  16347.000000  16347.000000  16335.000000  16347.00000  16347.000000   \n",
       "mean      55.540038     55.015416     35.180961     17.99584     17.539977   \n",
       "std       53.269618     52.697069     34.956016     24.83891     24.685954   \n",
       "min        0.000000      0.000000      0.000000      0.00000      0.000000   \n",
       "25%       21.000000     21.000000     12.000000      9.00000      9.000000   \n",
       "50%       42.000000     42.000000     27.000000     13.00000     13.000000   \n",
       "75%       74.000000     73.000000     47.000000     21.00000     21.000000   \n",
       "max     1305.000000   1305.000000   1211.000000   2205.00000   2205.000000   \n",
       "\n",
       "            Col2397  \n",
       "count  16335.000000  \n",
       "mean      10.359657  \n",
       "std       18.476447  \n",
       "min        0.000000  \n",
       "25%        5.000000  \n",
       "50%        7.000000  \n",
       "75%       12.000000  \n",
       "max     1831.000000  \n",
       "\n",
       "[8 rows x 2392 columns]"
      ]
     },
     "execution_count": 3,
     "metadata": {},
     "output_type": "execute_result"
    }
   ],
   "source": [
    "tdata.describe()"
   ]
  },
  {
   "cell_type": "code",
   "execution_count": 5,
   "metadata": {},
   "outputs": [
    {
     "data": {
      "text/html": [
       "<div>\n",
       "<style scoped>\n",
       "    .dataframe tbody tr th:only-of-type {\n",
       "        vertical-align: middle;\n",
       "    }\n",
       "\n",
       "    .dataframe tbody tr th {\n",
       "        vertical-align: top;\n",
       "    }\n",
       "\n",
       "    .dataframe thead th {\n",
       "        text-align: right;\n",
       "    }\n",
       "</style>\n",
       "<table border=\"1\" class=\"dataframe\">\n",
       "  <thead>\n",
       "    <tr style=\"text-align: right;\">\n",
       "      <th></th>\n",
       "      <th>Col1</th>\n",
       "      <th>Col2</th>\n",
       "      <th>Col3</th>\n",
       "      <th>Col4</th>\n",
       "      <th>Col5</th>\n",
       "      <th>Col6</th>\n",
       "      <th>Col7</th>\n",
       "      <th>Col8</th>\n",
       "      <th>Col9</th>\n",
       "      <th>Col10</th>\n",
       "      <th>...</th>\n",
       "      <th>Col2388</th>\n",
       "      <th>Col2389</th>\n",
       "      <th>Col2390</th>\n",
       "      <th>Col2391</th>\n",
       "      <th>Col2392</th>\n",
       "      <th>Col2393</th>\n",
       "      <th>Col2394</th>\n",
       "      <th>Col2395</th>\n",
       "      <th>Col2396</th>\n",
       "      <th>Col2397</th>\n",
       "    </tr>\n",
       "  </thead>\n",
       "  <tbody>\n",
       "    <tr>\n",
       "      <th>0</th>\n",
       "      <td>RIGHGSN</td>\n",
       "      <td>1</td>\n",
       "      <td>1.086711e+04</td>\n",
       "      <td>8.648345e+03</td>\n",
       "      <td>1.576618e+04</td>\n",
       "      <td>2.890466e+04</td>\n",
       "      <td>5.273655e+03</td>\n",
       "      <td>2.346153e+04</td>\n",
       "      <td>1.285597e+04</td>\n",
       "      <td>2.871509e+04</td>\n",
       "      <td>...</td>\n",
       "      <td>0</td>\n",
       "      <td>1</td>\n",
       "      <td>0</td>\n",
       "      <td>1</td>\n",
       "      <td>214.0</td>\n",
       "      <td>214.0</td>\n",
       "      <td>68.0</td>\n",
       "      <td>22.0</td>\n",
       "      <td>22.0</td>\n",
       "      <td>7.0</td>\n",
       "    </tr>\n",
       "    <tr>\n",
       "      <th>1</th>\n",
       "      <td>RIMHI5ZGP</td>\n",
       "      <td>0</td>\n",
       "      <td>2.584312e+05</td>\n",
       "      <td>2.179633e+05</td>\n",
       "      <td>1.866287e+05</td>\n",
       "      <td>1.866287e+05</td>\n",
       "      <td>2.154519e+05</td>\n",
       "      <td>1.923615e+05</td>\n",
       "      <td>1.726538e+05</td>\n",
       "      <td>1.666974e+05</td>\n",
       "      <td>...</td>\n",
       "      <td>0</td>\n",
       "      <td>0</td>\n",
       "      <td>0</td>\n",
       "      <td>0</td>\n",
       "      <td>41.0</td>\n",
       "      <td>41.0</td>\n",
       "      <td>38.0</td>\n",
       "      <td>12.0</td>\n",
       "      <td>12.0</td>\n",
       "      <td>11.0</td>\n",
       "    </tr>\n",
       "    <tr>\n",
       "      <th>2</th>\n",
       "      <td>RIHOG1SZU</td>\n",
       "      <td>0</td>\n",
       "      <td>1.459355e+07</td>\n",
       "      <td>1.260060e+07</td>\n",
       "      <td>1.100315e+07</td>\n",
       "      <td>1.010315e+07</td>\n",
       "      <td>1.879882e+07</td>\n",
       "      <td>1.514035e+07</td>\n",
       "      <td>5.320778e+06</td>\n",
       "      <td>6.906324e+06</td>\n",
       "      <td>...</td>\n",
       "      <td>0</td>\n",
       "      <td>1</td>\n",
       "      <td>1</td>\n",
       "      <td>0</td>\n",
       "      <td>378.0</td>\n",
       "      <td>378.0</td>\n",
       "      <td>310.0</td>\n",
       "      <td>21.0</td>\n",
       "      <td>21.0</td>\n",
       "      <td>16.0</td>\n",
       "    </tr>\n",
       "    <tr>\n",
       "      <th>3</th>\n",
       "      <td>RIHOLMQWU</td>\n",
       "      <td>0</td>\n",
       "      <td>6.727043e+05</td>\n",
       "      <td>8.181116e+05</td>\n",
       "      <td>6.794893e+05</td>\n",
       "      <td>6.794893e+05</td>\n",
       "      <td>8.257254e+05</td>\n",
       "      <td>7.605803e+05</td>\n",
       "      <td>3.577134e+05</td>\n",
       "      <td>4.236612e+05</td>\n",
       "      <td>...</td>\n",
       "      <td>0</td>\n",
       "      <td>0</td>\n",
       "      <td>0</td>\n",
       "      <td>0</td>\n",
       "      <td>702.0</td>\n",
       "      <td>702.0</td>\n",
       "      <td>644.0</td>\n",
       "      <td>951.0</td>\n",
       "      <td>951.0</td>\n",
       "      <td>743.0</td>\n",
       "    </tr>\n",
       "    <tr>\n",
       "      <th>4</th>\n",
       "      <td>RIHO584ET</td>\n",
       "      <td>0</td>\n",
       "      <td>-1.218742e+06</td>\n",
       "      <td>-3.005361e+06</td>\n",
       "      <td>-1.666241e+05</td>\n",
       "      <td>-2.403574e+06</td>\n",
       "      <td>2.583183e+06</td>\n",
       "      <td>2.086546e+06</td>\n",
       "      <td>5.938358e+06</td>\n",
       "      <td>5.446532e+06</td>\n",
       "      <td>...</td>\n",
       "      <td>0</td>\n",
       "      <td>0</td>\n",
       "      <td>0</td>\n",
       "      <td>0</td>\n",
       "      <td>1305.0</td>\n",
       "      <td>1305.0</td>\n",
       "      <td>1211.0</td>\n",
       "      <td>2205.0</td>\n",
       "      <td>2205.0</td>\n",
       "      <td>1831.0</td>\n",
       "    </tr>\n",
       "  </tbody>\n",
       "</table>\n",
       "<p>5 rows × 2395 columns</p>\n",
       "</div>"
      ],
      "text/plain": [
       "        Col1  Col2          Col3          Col4          Col5          Col6  \\\n",
       "0    RIGHGSN     1  1.086711e+04  8.648345e+03  1.576618e+04  2.890466e+04   \n",
       "1  RIMHI5ZGP     0  2.584312e+05  2.179633e+05  1.866287e+05  1.866287e+05   \n",
       "2  RIHOG1SZU     0  1.459355e+07  1.260060e+07  1.100315e+07  1.010315e+07   \n",
       "3  RIHOLMQWU     0  6.727043e+05  8.181116e+05  6.794893e+05  6.794893e+05   \n",
       "4  RIHO584ET     0 -1.218742e+06 -3.005361e+06 -1.666241e+05 -2.403574e+06   \n",
       "\n",
       "           Col7          Col8          Col9         Col10  ...  Col2388  \\\n",
       "0  5.273655e+03  2.346153e+04  1.285597e+04  2.871509e+04  ...        0   \n",
       "1  2.154519e+05  1.923615e+05  1.726538e+05  1.666974e+05  ...        0   \n",
       "2  1.879882e+07  1.514035e+07  5.320778e+06  6.906324e+06  ...        0   \n",
       "3  8.257254e+05  7.605803e+05  3.577134e+05  4.236612e+05  ...        0   \n",
       "4  2.583183e+06  2.086546e+06  5.938358e+06  5.446532e+06  ...        0   \n",
       "\n",
       "   Col2389  Col2390  Col2391  Col2392  Col2393  Col2394  Col2395  Col2396  \\\n",
       "0        1        0        1    214.0    214.0     68.0     22.0     22.0   \n",
       "1        0        0        0     41.0     41.0     38.0     12.0     12.0   \n",
       "2        1        1        0    378.0    378.0    310.0     21.0     21.0   \n",
       "3        0        0        0    702.0    702.0    644.0    951.0    951.0   \n",
       "4        0        0        0   1305.0   1305.0   1211.0   2205.0   2205.0   \n",
       "\n",
       "   Col2397  \n",
       "0      7.0  \n",
       "1     11.0  \n",
       "2     16.0  \n",
       "3    743.0  \n",
       "4   1831.0  \n",
       "\n",
       "[5 rows x 2395 columns]"
      ]
     },
     "execution_count": 5,
     "metadata": {},
     "output_type": "execute_result"
    }
   ],
   "source": [
    "tdata.head()"
   ]
  },
  {
   "cell_type": "code",
   "execution_count": 8,
   "metadata": {},
   "outputs": [
    {
     "data": {
      "text/plain": [
       "(17521, 2395)"
      ]
     },
     "execution_count": 8,
     "metadata": {},
     "output_type": "execute_result"
    }
   ],
   "source": [
    "tdata.shape"
   ]
  },
  {
   "cell_type": "code",
   "execution_count": 9,
   "metadata": {},
   "outputs": [
    {
     "data": {
      "text/plain": [
       "17521"
      ]
     },
     "execution_count": 9,
     "metadata": {},
     "output_type": "execute_result"
    }
   ],
   "source": [
    "tdata.Col1.nunique()"
   ]
  },
  {
   "cell_type": "code",
   "execution_count": 10,
   "metadata": {},
   "outputs": [
    {
     "data": {
      "text/plain": [
       "2"
      ]
     },
     "execution_count": 10,
     "metadata": {},
     "output_type": "execute_result"
    }
   ],
   "source": [
    "tdata.Col2.nunique()"
   ]
  },
  {
   "cell_type": "code",
   "execution_count": 23,
   "metadata": {},
   "outputs": [],
   "source": [
    "na_stat = list(tdata.isna().sum().values)\n",
    "cols_names = list(tdata.isna().sum().index)"
   ]
  },
  {
   "cell_type": "code",
   "execution_count": 27,
   "metadata": {},
   "outputs": [
    {
     "name": "stdout",
     "output_type": "stream",
     "text": [
      "2395 2395\n"
     ]
    }
   ],
   "source": [
    "print(len(na_stat),len(cols_names))"
   ]
  },
  {
   "cell_type": "code",
   "execution_count": 4,
   "metadata": {},
   "outputs": [],
   "source": [
    "no_na_tdata = tdata.dropna(axis=1)"
   ]
  },
  {
   "cell_type": "code",
   "execution_count": 30,
   "metadata": {},
   "outputs": [
    {
     "data": {
      "text/plain": [
       "(17521, 1636)"
      ]
     },
     "execution_count": 30,
     "metadata": {},
     "output_type": "execute_result"
    }
   ],
   "source": [
    "no_na_tdata.shape"
   ]
  },
  {
   "cell_type": "code",
   "execution_count": 8,
   "metadata": {},
   "outputs": [],
   "source": [
    "del no_na_tdata[\"Col2\"],no_na_tdata[\"Col1\"]"
   ]
  },
  {
   "cell_type": "code",
   "execution_count": 9,
   "metadata": {},
   "outputs": [],
   "source": [
    "seed = 21\n",
    "test_size=0.1\n",
    "X_train, X_test, y_train, y_test = train_test_split(no_na_tdata, tdata[\"Col2\"], test_size=test_size, random_state=seed)"
   ]
  },
  {
   "cell_type": "code",
   "execution_count": 10,
   "metadata": {},
   "outputs": [],
   "source": [
    "rfc = RandomForestClassifier(n_jobs=-1,class_weight=\"balanced_subsample\")"
   ]
  },
  {
   "cell_type": "code",
   "execution_count": 11,
   "metadata": {},
   "outputs": [
    {
     "name": "stderr",
     "output_type": "stream",
     "text": [
      "/home/whirldata/py35/lib/python3.5/site-packages/sklearn/ensemble/forest.py:245: FutureWarning: The default value of n_estimators will change from 10 in version 0.20 to 100 in 0.22.\n",
      "  \"10 in version 0.20 to 100 in 0.22.\", FutureWarning)\n"
     ]
    },
    {
     "data": {
      "text/plain": [
       "RandomForestClassifier(bootstrap=True, class_weight='balanced_subsample',\n",
       "                       criterion='gini', max_depth=None, max_features='auto',\n",
       "                       max_leaf_nodes=None, min_impurity_decrease=0.0,\n",
       "                       min_impurity_split=None, min_samples_leaf=1,\n",
       "                       min_samples_split=2, min_weight_fraction_leaf=0.0,\n",
       "                       n_estimators=10, n_jobs=-1, oob_score=False,\n",
       "                       random_state=None, verbose=0, warm_start=False)"
      ]
     },
     "execution_count": 11,
     "metadata": {},
     "output_type": "execute_result"
    }
   ],
   "source": [
    "rfc.fit(X_train,y_train)"
   ]
  },
  {
   "cell_type": "code",
   "execution_count": 12,
   "metadata": {},
   "outputs": [
    {
     "data": {
      "text/plain": [
       "0.8397033656588705"
      ]
     },
     "execution_count": 12,
     "metadata": {},
     "output_type": "execute_result"
    }
   ],
   "source": [
    "rfc.score(X_test,y_test)"
   ]
  },
  {
   "cell_type": "code",
   "execution_count": null,
   "metadata": {},
   "outputs": [],
   "source": []
  },
  {
   "cell_type": "code",
   "execution_count": 43,
   "metadata": {},
   "outputs": [
    {
     "name": "stdout",
     "output_type": "stream",
     "text": [
      "Accuracy: 90.70%\n"
     ]
    }
   ],
   "source": [
    "#instantiate model and train\n",
    "model = XGBClassifier(learning_rate = 0.05, n_estimators=300, max_depth=5,n_jobs=3)\n",
    "model.fit(X_train, y_train)\n",
    "\n",
    "# make predictions for test set\n",
    "y_pred = model.predict(X_test)\n",
    "predictions = [round(value) for value in y_pred]\n",
    "\n",
    "accuracy = accuracy_score(y_test, predictions)\n",
    "print(\"Accuracy: %.2f%%\" % (accuracy * 100.0))"
   ]
  },
  {
   "cell_type": "code",
   "execution_count": 13,
   "metadata": {},
   "outputs": [
    {
     "name": "stderr",
     "output_type": "stream",
     "text": [
      "/home/whirldata/py35/lib/python3.5/site-packages/IPython/core/interactiveshell.py:3044: DtypeWarning: Columns (700,731,740,752,761,789,811,820,829,841,850) have mixed types. Specify dtype option on import or set low_memory=False.\n",
      "  interactivity=interactivity, compiler=compiler, result=result)\n"
     ]
    }
   ],
   "source": [
    "tesData=pd.read_csv(\"Test.csv\")"
   ]
  },
  {
   "cell_type": "code",
   "execution_count": 14,
   "metadata": {},
   "outputs": [],
   "source": [
    "no_na_tesdata = tesData.dropna(axis=1)"
   ]
  },
  {
   "cell_type": "code",
   "execution_count": 17,
   "metadata": {},
   "outputs": [
    {
     "data": {
      "text/plain": [
       "(20442, 1635)"
      ]
     },
     "execution_count": 17,
     "metadata": {},
     "output_type": "execute_result"
    }
   ],
   "source": [
    "no_na_tesdata.shape"
   ]
  },
  {
   "cell_type": "code",
   "execution_count": 53,
   "metadata": {},
   "outputs": [
    {
     "data": {
      "text/html": [
       "<div>\n",
       "<style scoped>\n",
       "    .dataframe tbody tr th:only-of-type {\n",
       "        vertical-align: middle;\n",
       "    }\n",
       "\n",
       "    .dataframe tbody tr th {\n",
       "        vertical-align: top;\n",
       "    }\n",
       "\n",
       "    .dataframe thead th {\n",
       "        text-align: right;\n",
       "    }\n",
       "</style>\n",
       "<table border=\"1\" class=\"dataframe\">\n",
       "  <thead>\n",
       "    <tr style=\"text-align: right;\">\n",
       "      <th></th>\n",
       "      <th>Col1</th>\n",
       "      <th>Col3</th>\n",
       "      <th>Col4</th>\n",
       "      <th>Col5</th>\n",
       "      <th>Col6</th>\n",
       "      <th>Col7</th>\n",
       "      <th>Col8</th>\n",
       "      <th>Col9</th>\n",
       "      <th>Col10</th>\n",
       "      <th>Col11</th>\n",
       "      <th>...</th>\n",
       "      <th>Col2388</th>\n",
       "      <th>Col2389</th>\n",
       "      <th>Col2390</th>\n",
       "      <th>Col2391</th>\n",
       "      <th>Col2392</th>\n",
       "      <th>Col2393</th>\n",
       "      <th>Col2394</th>\n",
       "      <th>Col2395</th>\n",
       "      <th>Col2396</th>\n",
       "      <th>Col2397</th>\n",
       "    </tr>\n",
       "  </thead>\n",
       "  <tbody>\n",
       "    <tr>\n",
       "      <th>0</th>\n",
       "      <td>RIGD58ZWD</td>\n",
       "      <td>8.167140e+04</td>\n",
       "      <td>8.614542e+04</td>\n",
       "      <td>7.532296e+04</td>\n",
       "      <td>7.532296e+04</td>\n",
       "      <td>1.125174e+05</td>\n",
       "      <td>1.002778e+05</td>\n",
       "      <td>2.038915e+04</td>\n",
       "      <td>3.053853e+04</td>\n",
       "      <td>8.395911e+04</td>\n",
       "      <td>...</td>\n",
       "      <td>0</td>\n",
       "      <td>0</td>\n",
       "      <td>0</td>\n",
       "      <td>0</td>\n",
       "      <td>44.0</td>\n",
       "      <td>44.0</td>\n",
       "      <td>23.0</td>\n",
       "      <td>41.0</td>\n",
       "      <td>41.0</td>\n",
       "      <td>36.0</td>\n",
       "    </tr>\n",
       "    <tr>\n",
       "      <th>1</th>\n",
       "      <td>RIH660YDS</td>\n",
       "      <td>-1.362824e+07</td>\n",
       "      <td>-4.493043e+06</td>\n",
       "      <td>-3.777257e+06</td>\n",
       "      <td>-4.493043e+06</td>\n",
       "      <td>-4.749764e+06</td>\n",
       "      <td>-4.749764e+06</td>\n",
       "      <td>1.147556e+07</td>\n",
       "      <td>1.147556e+07</td>\n",
       "      <td>1.272055e+07</td>\n",
       "      <td>...</td>\n",
       "      <td>1</td>\n",
       "      <td>1</td>\n",
       "      <td>2</td>\n",
       "      <td>2</td>\n",
       "      <td>1234.0</td>\n",
       "      <td>1234.0</td>\n",
       "      <td>680.0</td>\n",
       "      <td>154.0</td>\n",
       "      <td>153.0</td>\n",
       "      <td>86.0</td>\n",
       "    </tr>\n",
       "    <tr>\n",
       "      <th>2</th>\n",
       "      <td>RIH660Q96</td>\n",
       "      <td>1.302700e+06</td>\n",
       "      <td>1.341449e+06</td>\n",
       "      <td>1.240085e+06</td>\n",
       "      <td>1.341449e+06</td>\n",
       "      <td>1.477503e+06</td>\n",
       "      <td>1.477503e+06</td>\n",
       "      <td>3.904086e+05</td>\n",
       "      <td>3.904086e+05</td>\n",
       "      <td>4.979106e+05</td>\n",
       "      <td>...</td>\n",
       "      <td>0</td>\n",
       "      <td>0</td>\n",
       "      <td>0</td>\n",
       "      <td>0</td>\n",
       "      <td>33.0</td>\n",
       "      <td>24.0</td>\n",
       "      <td>19.0</td>\n",
       "      <td>3.0</td>\n",
       "      <td>1.0</td>\n",
       "      <td>1.0</td>\n",
       "    </tr>\n",
       "    <tr>\n",
       "      <th>3</th>\n",
       "      <td>RIYDO15W1</td>\n",
       "      <td>1.932258e+05</td>\n",
       "      <td>1.454433e+05</td>\n",
       "      <td>1.929148e+05</td>\n",
       "      <td>1.454433e+05</td>\n",
       "      <td>1.318250e+04</td>\n",
       "      <td>1.318250e+04</td>\n",
       "      <td>8.650108e+04</td>\n",
       "      <td>8.650108e+04</td>\n",
       "      <td>5.896693e+03</td>\n",
       "      <td>...</td>\n",
       "      <td>0</td>\n",
       "      <td>0</td>\n",
       "      <td>0</td>\n",
       "      <td>0</td>\n",
       "      <td>8.0</td>\n",
       "      <td>8.0</td>\n",
       "      <td>3.0</td>\n",
       "      <td>7.0</td>\n",
       "      <td>7.0</td>\n",
       "      <td>3.0</td>\n",
       "    </tr>\n",
       "    <tr>\n",
       "      <th>4</th>\n",
       "      <td>RIYBGC1ZD</td>\n",
       "      <td>3.913385e+05</td>\n",
       "      <td>1.987337e+05</td>\n",
       "      <td>1.703432e+05</td>\n",
       "      <td>1.987337e+05</td>\n",
       "      <td>3.046536e+05</td>\n",
       "      <td>3.046536e+05</td>\n",
       "      <td>2.528307e+05</td>\n",
       "      <td>2.528307e+05</td>\n",
       "      <td>3.034449e+05</td>\n",
       "      <td>...</td>\n",
       "      <td>0</td>\n",
       "      <td>0</td>\n",
       "      <td>0</td>\n",
       "      <td>0</td>\n",
       "      <td>7.0</td>\n",
       "      <td>7.0</td>\n",
       "      <td>7.0</td>\n",
       "      <td>6.0</td>\n",
       "      <td>6.0</td>\n",
       "      <td>5.0</td>\n",
       "    </tr>\n",
       "  </tbody>\n",
       "</table>\n",
       "<p>5 rows × 2394 columns</p>\n",
       "</div>"
      ],
      "text/plain": [
       "        Col1          Col3          Col4          Col5          Col6  \\\n",
       "0  RIGD58ZWD  8.167140e+04  8.614542e+04  7.532296e+04  7.532296e+04   \n",
       "1  RIH660YDS -1.362824e+07 -4.493043e+06 -3.777257e+06 -4.493043e+06   \n",
       "2  RIH660Q96  1.302700e+06  1.341449e+06  1.240085e+06  1.341449e+06   \n",
       "3  RIYDO15W1  1.932258e+05  1.454433e+05  1.929148e+05  1.454433e+05   \n",
       "4  RIYBGC1ZD  3.913385e+05  1.987337e+05  1.703432e+05  1.987337e+05   \n",
       "\n",
       "           Col7          Col8          Col9         Col10         Col11  ...  \\\n",
       "0  1.125174e+05  1.002778e+05  2.038915e+04  3.053853e+04  8.395911e+04  ...   \n",
       "1 -4.749764e+06 -4.749764e+06  1.147556e+07  1.147556e+07  1.272055e+07  ...   \n",
       "2  1.477503e+06  1.477503e+06  3.904086e+05  3.904086e+05  4.979106e+05  ...   \n",
       "3  1.318250e+04  1.318250e+04  8.650108e+04  8.650108e+04  5.896693e+03  ...   \n",
       "4  3.046536e+05  3.046536e+05  2.528307e+05  2.528307e+05  3.034449e+05  ...   \n",
       "\n",
       "   Col2388  Col2389  Col2390  Col2391  Col2392  Col2393  Col2394  Col2395  \\\n",
       "0        0        0        0        0     44.0     44.0     23.0     41.0   \n",
       "1        1        1        2        2   1234.0   1234.0    680.0    154.0   \n",
       "2        0        0        0        0     33.0     24.0     19.0      3.0   \n",
       "3        0        0        0        0      8.0      8.0      3.0      7.0   \n",
       "4        0        0        0        0      7.0      7.0      7.0      6.0   \n",
       "\n",
       "   Col2396  Col2397  \n",
       "0     41.0     36.0  \n",
       "1    153.0     86.0  \n",
       "2      1.0      1.0  \n",
       "3      7.0      3.0  \n",
       "4      6.0      5.0  \n",
       "\n",
       "[5 rows x 2394 columns]"
      ]
     },
     "execution_count": 53,
     "metadata": {},
     "output_type": "execute_result"
    }
   ],
   "source": [
    "tesData.head()"
   ]
  },
  {
   "cell_type": "code",
   "execution_count": 15,
   "metadata": {},
   "outputs": [],
   "source": [
    "id_cols = tesData[\"Col1\"]"
   ]
  },
  {
   "cell_type": "code",
   "execution_count": 16,
   "metadata": {},
   "outputs": [],
   "source": [
    "del no_na_tesdata[\"Col1\"]"
   ]
  },
  {
   "cell_type": "code",
   "execution_count": 60,
   "metadata": {},
   "outputs": [
    {
     "data": {
      "text/plain": [
       "(17521, 1634)"
      ]
     },
     "execution_count": 60,
     "metadata": {},
     "output_type": "execute_result"
    }
   ],
   "source": [
    "no_na_tdata.shape"
   ]
  },
  {
   "cell_type": "code",
   "execution_count": 62,
   "metadata": {},
   "outputs": [
    {
     "data": {
      "text/plain": [
       "(20442, 1634)"
      ]
     },
     "execution_count": 62,
     "metadata": {},
     "output_type": "execute_result"
    }
   ],
   "source": [
    "no_na_tesdata.shape"
   ]
  },
  {
   "cell_type": "code",
   "execution_count": 17,
   "metadata": {},
   "outputs": [],
   "source": [
    "# y_pre_test = list(model.predict(no_na_tesdata))\n",
    "y_pre_test = list(rfc.predict(no_na_tesdata))"
   ]
  },
  {
   "cell_type": "code",
   "execution_count": 65,
   "metadata": {},
   "outputs": [],
   "source": [
    "sub = pd.read_csv(\"Sample_submission.csv\")"
   ]
  },
  {
   "cell_type": "code",
   "execution_count": 66,
   "metadata": {},
   "outputs": [
    {
     "data": {
      "text/html": [
       "<div>\n",
       "<style scoped>\n",
       "    .dataframe tbody tr th:only-of-type {\n",
       "        vertical-align: middle;\n",
       "    }\n",
       "\n",
       "    .dataframe tbody tr th {\n",
       "        vertical-align: top;\n",
       "    }\n",
       "\n",
       "    .dataframe thead th {\n",
       "        text-align: right;\n",
       "    }\n",
       "</style>\n",
       "<table border=\"1\" class=\"dataframe\">\n",
       "  <thead>\n",
       "    <tr style=\"text-align: right;\">\n",
       "      <th></th>\n",
       "      <th>Col1</th>\n",
       "      <th>Col2</th>\n",
       "    </tr>\n",
       "  </thead>\n",
       "  <tbody>\n",
       "    <tr>\n",
       "      <th>0</th>\n",
       "      <td>RIGD58ZWD</td>\n",
       "      <td>0</td>\n",
       "    </tr>\n",
       "    <tr>\n",
       "      <th>1</th>\n",
       "      <td>RIH660YDS</td>\n",
       "      <td>1</td>\n",
       "    </tr>\n",
       "    <tr>\n",
       "      <th>2</th>\n",
       "      <td>RIH660Q96</td>\n",
       "      <td>0</td>\n",
       "    </tr>\n",
       "    <tr>\n",
       "      <th>3</th>\n",
       "      <td>RIYDO15W1</td>\n",
       "      <td>1</td>\n",
       "    </tr>\n",
       "  </tbody>\n",
       "</table>\n",
       "</div>"
      ],
      "text/plain": [
       "        Col1  Col2\n",
       "0  RIGD58ZWD     0\n",
       "1  RIH660YDS     1\n",
       "2  RIH660Q96     0\n",
       "3  RIYDO15W1     1"
      ]
     },
     "execution_count": 66,
     "metadata": {},
     "output_type": "execute_result"
    }
   ],
   "source": [
    "sub.head()"
   ]
  },
  {
   "cell_type": "code",
   "execution_count": 18,
   "metadata": {},
   "outputs": [],
   "source": [
    "final_sub= pd.DataFrame(columns=[\"Col1\",\"Col2\"])\n",
    "\n",
    "final_sub[\"Col1\"]=id_cols\n",
    "\n",
    "final_sub[\"Col2\"]=y_pre_test"
   ]
  },
  {
   "cell_type": "code",
   "execution_count": 19,
   "metadata": {},
   "outputs": [
    {
     "data": {
      "text/plain": [
       "Col1    0\n",
       "Col2    0\n",
       "dtype: int64"
      ]
     },
     "execution_count": 19,
     "metadata": {},
     "output_type": "execute_result"
    }
   ],
   "source": [
    "final_sub.isna().sum()"
   ]
  },
  {
   "cell_type": "code",
   "execution_count": 20,
   "metadata": {},
   "outputs": [
    {
     "data": {
      "text/plain": [
       "0    19114\n",
       "1     1328\n",
       "Name: Col2, dtype: int64"
      ]
     },
     "execution_count": 20,
     "metadata": {},
     "output_type": "execute_result"
    }
   ],
   "source": [
    "final_sub.Col2.value_counts()"
   ]
  },
  {
   "cell_type": "code",
   "execution_count": 21,
   "metadata": {},
   "outputs": [],
   "source": [
    "final_sub.to_csv(\"Submission1.csv\",index=False)"
   ]
  },
  {
   "cell_type": "code",
   "execution_count": null,
   "metadata": {},
   "outputs": [],
   "source": []
  },
  {
   "cell_type": "code",
   "execution_count": 14,
   "metadata": {},
   "outputs": [
    {
     "data": {
      "text/plain": [
       "0    15760\n",
       "1     1761\n",
       "Name: Col2, dtype: int64"
      ]
     },
     "execution_count": 14,
     "metadata": {},
     "output_type": "execute_result"
    }
   ],
   "source": [
    "tdata.Col2.value_counts()"
   ]
  },
  {
   "cell_type": "code",
   "execution_count": null,
   "metadata": {},
   "outputs": [],
   "source": []
  },
  {
   "cell_type": "code",
   "execution_count": null,
   "metadata": {},
   "outputs": [],
   "source": []
  },
  {
   "cell_type": "code",
   "execution_count": 12,
   "metadata": {},
   "outputs": [],
   "source": [
    "x_train, x_test, y_train, y_test = train_test_split(no_na_tdata, tdata[\"Col2\"], test_size = 0.25, random_state = 0)\n",
    "# Feature Scaling\n",
    "from sklearn.preprocessing import StandardScaler\n",
    "sc = StandardScaler()\n",
    "x_train = sc.fit_transform(x_train)\n",
    "x_test = sc.transform(x_test)"
   ]
  },
  {
   "cell_type": "code",
   "execution_count": 13,
   "metadata": {},
   "outputs": [],
   "source": [
    "import lightgbm as lgb\n",
    "d_train = lgb.Dataset(x_train, label=y_train)\n",
    "params = {}\n",
    "params['learning_rate'] = 0.003\n",
    "params['boosting_type'] = 'gbdt'\n",
    "params['objective'] = 'binary'\n",
    "params['metric'] = 'binary_logloss'\n",
    "params['sub_feature'] = 0.5\n",
    "params['num_leaves'] = 10\n",
    "params['min_data'] = 50\n",
    "params['max_depth'] = 10\n",
    "clf = lgb.train(params, d_train, 100)"
   ]
  },
  {
   "cell_type": "code",
   "execution_count": 24,
   "metadata": {},
   "outputs": [],
   "source": [
    "y_pred_lgbm = list(clf.predict(no_na_tesdata))"
   ]
  },
  {
   "cell_type": "code",
   "execution_count": 34,
   "metadata": {},
   "outputs": [],
   "source": [
    "y_pred_0_1 = []\n",
    "for x in y_pred_lgbm:\n",
    "    if x > 0.1:\n",
    "        y_pred_0_1.append(1)\n",
    "    else:\n",
    "        y_pred_0_1.append(0)"
   ]
  },
  {
   "cell_type": "code",
   "execution_count": 35,
   "metadata": {},
   "outputs": [],
   "source": [
    "final_sub= pd.DataFrame(columns=[\"Col1\",\"Col2\"])\n",
    "\n",
    "final_sub[\"Col1\"]=id_cols\n",
    "\n",
    "final_sub[\"Col2\"]=y_pred_0_1"
   ]
  },
  {
   "cell_type": "code",
   "execution_count": 36,
   "metadata": {},
   "outputs": [
    {
     "data": {
      "text/plain": [
       "1    16483\n",
       "0     3959\n",
       "Name: Col2, dtype: int64"
      ]
     },
     "execution_count": 36,
     "metadata": {},
     "output_type": "execute_result"
    }
   ],
   "source": [
    "final_sub.Col2.value_counts()"
   ]
  },
  {
   "cell_type": "code",
   "execution_count": 37,
   "metadata": {},
   "outputs": [],
   "source": [
    "final_sub.to_csv(\"Submission2_l.csv\",index=False)"
   ]
  },
  {
   "cell_type": "code",
   "execution_count": null,
   "metadata": {},
   "outputs": [],
   "source": []
  }
 ],
 "metadata": {
  "kernelspec": {
   "display_name": "Python 3",
   "language": "python",
   "name": "python3"
  },
  "language_info": {
   "codemirror_mode": {
    "name": "ipython",
    "version": 3
   },
   "file_extension": ".py",
   "mimetype": "text/x-python",
   "name": "python",
   "nbconvert_exporter": "python",
   "pygments_lexer": "ipython3",
   "version": "3.5.2"
  }
 },
 "nbformat": 4,
 "nbformat_minor": 2
}
