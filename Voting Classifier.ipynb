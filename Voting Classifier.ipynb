{
 "cells": [
  {
   "cell_type": "code",
   "execution_count": 41,
   "metadata": {},
   "outputs": [],
   "source": [
    "import pandas as pd\n",
    "import plotly.graph_objs as go\n",
    "from plotly.offline import plot\n",
    "from sklearn.ensemble import VotingClassifier,RandomForestClassifier\n",
    "from sklearn.tree import DecisionTreeClassifier,ExtraTreeClassifier\n",
    "from sklearn.model_selection import GridSearchCV\n",
    "from sklearn.linear_model import LogisticRegressionCV,LogisticRegression\n",
    "from sklearn.naive_bayes import GaussianNB,BernoulliNB\n",
    "from sklearn.svm import SVC\n",
    "from sklearn.neural_network import MLPClassifier\n",
    "from sklearn.preprocessing import StandardScaler\n",
    "# from sk"
   ]
  },
  {
   "cell_type": "code",
   "execution_count": 2,
   "metadata": {},
   "outputs": [
    {
     "name": "stderr",
     "output_type": "stream",
     "text": [
      "/home/whirldata/py35/lib/python3.5/site-packages/IPython/core/interactiveshell.py:3044: DtypeWarning:\n",
      "\n",
      "Columns (746,835) have mixed types. Specify dtype option on import or set low_memory=False.\n",
      "\n"
     ]
    }
   ],
   "source": [
    "data_train = pd.read_csv(\"Train.csv\")"
   ]
  },
  {
   "cell_type": "code",
   "execution_count": 3,
   "metadata": {},
   "outputs": [],
   "source": [
    "cols_val_counts = data_train.count().values\n",
    "cols_names = data_train.count().index"
   ]
  },
  {
   "cell_type": "code",
   "execution_count": 34,
   "metadata": {},
   "outputs": [
    {
     "data": {
      "text/plain": [
       "array([17521, 17521, 17521, ..., 16347, 16347, 16335])"
      ]
     },
     "execution_count": 34,
     "metadata": {},
     "output_type": "execute_result"
    }
   ],
   "source": [
    "cols_val_counts"
   ]
  },
  {
   "cell_type": "code",
   "execution_count": 4,
   "metadata": {},
   "outputs": [],
   "source": [
    "# cols_under_1000 = []\n",
    "# cols_under_10 = []\n",
    "# cols_btw_1000_2000 = []\n",
    "# cols_under_10000 = []\n",
    "cols_under_org_count = []\n",
    "cols_without_na = []\n",
    "for i,count in enumerate(cols_val_counts):\n",
    "    if count < 17520:\n",
    "        cols_under_org_count.append(cols_names[i])\n",
    "    else:\n",
    "        cols_without_na.append(cols_names[i])\n",
    "        \n",
    "#     if count < 1000:\n",
    "# #         print(cols_names[i],\"**********\",count)\n",
    "#         cols_under_1000.append(cols_names[i])\n",
    "#     if count < 10000:\n",
    "#         cols_under_10000.append(cols_names[i])\n",
    "# #         print(cols_names[i],\"**********\",count)\n",
    "#     if count > 1000 and count < 2000 :\n",
    "#         cols_btw_1000_2000.append(cols_names[i])\n",
    "#     if count < 10:\n",
    "# #         print(cols_names[i],\"**********\",count)\n",
    "#         cols_under_10.append(cols_names[i])"
   ]
  },
  {
   "cell_type": "code",
   "execution_count": 6,
   "metadata": {},
   "outputs": [
    {
     "data": {
      "text/plain": [
       "759"
      ]
     },
     "execution_count": 6,
     "metadata": {},
     "output_type": "execute_result"
    }
   ],
   "source": [
    "len(cols_under_org_count)"
   ]
  },
  {
   "cell_type": "code",
   "execution_count": 17,
   "metadata": {},
   "outputs": [
    {
     "name": "stdout",
     "output_type": "stream",
     "text": [
      "CPU times: user 13.7 s, sys: 563 µs, total: 13.7 s\n",
      "Wall time: 13.7 s\n"
     ]
    }
   ],
   "source": [
    "%%time\n",
    "values_dict= {}\n",
    "no_of_ones_in_withNA = {}\n",
    "cols_ones_count = {}\n",
    "\n",
    "for colss in cols_under_org_count:\n",
    "    count_ones = 0\n",
    "    cols__count = list(data_train[(~data_train[colss].isna()) & (data_train[\"Col2\"]==1)][\"Col2\"])\n",
    "    cols_ones_count.update({\n",
    "        colss : len(cols__count)\n",
    "        })\n",
    "#     values_dict.update({\n",
    "#         colss: cols2_count\n",
    "#     })\n",
    "    \n",
    "#     ones_count = len(data_train[(data_train[\"Col463\"].isna()) & (data_train[\"Col2\"]==1)])\n",
    "#     no_of_ones_in_withNA.update({\n",
    "#         colss : ones_count\n",
    "#     })"
   ]
  },
  {
   "cell_type": "code",
   "execution_count": 20,
   "metadata": {},
   "outputs": [],
   "source": [
    "from collections import defaultdict\n",
    "\n",
    "group_based_ones = defaultdict(list)\n",
    "\n",
    "for key, value in sorted(cols_ones_count.items()):\n",
    "    group_based_ones[value].append(key)"
   ]
  },
  {
   "cell_type": "code",
   "execution_count": 35,
   "metadata": {},
   "outputs": [],
   "source": [
    "y_ones = sorted([len(x) for x in group_based_ones.values()])"
   ]
  },
  {
   "cell_type": "code",
   "execution_count": 20,
   "metadata": {},
   "outputs": [
    {
     "data": {
      "text/html": [
       "<div>\n",
       "<style scoped>\n",
       "    .dataframe tbody tr th:only-of-type {\n",
       "        vertical-align: middle;\n",
       "    }\n",
       "\n",
       "    .dataframe tbody tr th {\n",
       "        vertical-align: top;\n",
       "    }\n",
       "\n",
       "    .dataframe thead th {\n",
       "        text-align: right;\n",
       "    }\n",
       "</style>\n",
       "<table border=\"1\" class=\"dataframe\">\n",
       "  <thead>\n",
       "    <tr style=\"text-align: right;\">\n",
       "      <th></th>\n",
       "      <th>Col1</th>\n",
       "      <th>Col2</th>\n",
       "      <th>Col3</th>\n",
       "      <th>Col4</th>\n",
       "      <th>Col5</th>\n",
       "      <th>Col6</th>\n",
       "      <th>Col7</th>\n",
       "      <th>Col8</th>\n",
       "      <th>Col9</th>\n",
       "      <th>Col10</th>\n",
       "      <th>...</th>\n",
       "      <th>Col2388</th>\n",
       "      <th>Col2389</th>\n",
       "      <th>Col2390</th>\n",
       "      <th>Col2391</th>\n",
       "      <th>Col2392</th>\n",
       "      <th>Col2393</th>\n",
       "      <th>Col2394</th>\n",
       "      <th>Col2395</th>\n",
       "      <th>Col2396</th>\n",
       "      <th>Col2397</th>\n",
       "    </tr>\n",
       "  </thead>\n",
       "  <tbody>\n",
       "    <tr>\n",
       "      <th>123</th>\n",
       "      <td>92VUOOQ5</td>\n",
       "      <td>0</td>\n",
       "      <td>3696.020000</td>\n",
       "      <td>4144.623333</td>\n",
       "      <td>4144.623333</td>\n",
       "      <td>8289.246667</td>\n",
       "      <td>4576.208333</td>\n",
       "      <td>9152.416667</td>\n",
       "      <td>7212.101981</td>\n",
       "      <td>8346.992778</td>\n",
       "      <td>...</td>\n",
       "      <td>0</td>\n",
       "      <td>0</td>\n",
       "      <td>0</td>\n",
       "      <td>0</td>\n",
       "      <td>29.0</td>\n",
       "      <td>29.0</td>\n",
       "      <td>24.0</td>\n",
       "      <td>12.0</td>\n",
       "      <td>12.0</td>\n",
       "      <td>8.0</td>\n",
       "    </tr>\n",
       "    <tr>\n",
       "      <th>264</th>\n",
       "      <td>AYEUUCK9</td>\n",
       "      <td>0</td>\n",
       "      <td>10395.423330</td>\n",
       "      <td>10820.044000</td>\n",
       "      <td>9016.703333</td>\n",
       "      <td>9016.703333</td>\n",
       "      <td>27955.754000</td>\n",
       "      <td>23296.461670</td>\n",
       "      <td>4160.358618</td>\n",
       "      <td>5540.674809</td>\n",
       "      <td>...</td>\n",
       "      <td>1</td>\n",
       "      <td>0</td>\n",
       "      <td>1</td>\n",
       "      <td>2</td>\n",
       "      <td>52.0</td>\n",
       "      <td>52.0</td>\n",
       "      <td>32.0</td>\n",
       "      <td>12.0</td>\n",
       "      <td>12.0</td>\n",
       "      <td>7.0</td>\n",
       "    </tr>\n",
       "    <tr>\n",
       "      <th>3151</th>\n",
       "      <td>7NYWGOSR</td>\n",
       "      <td>1</td>\n",
       "      <td>1371.333333</td>\n",
       "      <td>543.169167</td>\n",
       "      <td>543.169167</td>\n",
       "      <td>1086.338333</td>\n",
       "      <td>1075.810833</td>\n",
       "      <td>2151.621667</td>\n",
       "      <td>787.403397</td>\n",
       "      <td>806.182414</td>\n",
       "      <td>...</td>\n",
       "      <td>1</td>\n",
       "      <td>1</td>\n",
       "      <td>2</td>\n",
       "      <td>2</td>\n",
       "      <td>75.0</td>\n",
       "      <td>75.0</td>\n",
       "      <td>41.0</td>\n",
       "      <td>51.0</td>\n",
       "      <td>51.0</td>\n",
       "      <td>32.0</td>\n",
       "    </tr>\n",
       "    <tr>\n",
       "      <th>5926</th>\n",
       "      <td>O9LRG15E</td>\n",
       "      <td>0</td>\n",
       "      <td>7797.460000</td>\n",
       "      <td>4441.111111</td>\n",
       "      <td>3997.000000</td>\n",
       "      <td>6661.666667</td>\n",
       "      <td>25923.072220</td>\n",
       "      <td>38884.608330</td>\n",
       "      <td>4642.237588</td>\n",
       "      <td>4187.146144</td>\n",
       "      <td>...</td>\n",
       "      <td>1</td>\n",
       "      <td>3</td>\n",
       "      <td>1</td>\n",
       "      <td>3</td>\n",
       "      <td>111.0</td>\n",
       "      <td>111.0</td>\n",
       "      <td>72.0</td>\n",
       "      <td>29.0</td>\n",
       "      <td>29.0</td>\n",
       "      <td>16.0</td>\n",
       "    </tr>\n",
       "    <tr>\n",
       "      <th>7002</th>\n",
       "      <td>O9GO5SQG</td>\n",
       "      <td>0</td>\n",
       "      <td>41676.546670</td>\n",
       "      <td>17637.871000</td>\n",
       "      <td>17569.688180</td>\n",
       "      <td>29396.451670</td>\n",
       "      <td>22667.190000</td>\n",
       "      <td>37778.650000</td>\n",
       "      <td>18102.749480</td>\n",
       "      <td>14160.168690</td>\n",
       "      <td>...</td>\n",
       "      <td>0</td>\n",
       "      <td>0</td>\n",
       "      <td>0</td>\n",
       "      <td>0</td>\n",
       "      <td>54.0</td>\n",
       "      <td>54.0</td>\n",
       "      <td>45.0</td>\n",
       "      <td>24.0</td>\n",
       "      <td>24.0</td>\n",
       "      <td>20.0</td>\n",
       "    </tr>\n",
       "    <tr>\n",
       "      <th>8327</th>\n",
       "      <td>O9YUQMZR</td>\n",
       "      <td>1</td>\n",
       "      <td>8360.530000</td>\n",
       "      <td>6759.134444</td>\n",
       "      <td>8397.253000</td>\n",
       "      <td>8111.680000</td>\n",
       "      <td>10005.648890</td>\n",
       "      <td>10223.306670</td>\n",
       "      <td>4197.653445</td>\n",
       "      <td>2122.712434</td>\n",
       "      <td>...</td>\n",
       "      <td>0</td>\n",
       "      <td>0</td>\n",
       "      <td>0</td>\n",
       "      <td>0</td>\n",
       "      <td>75.0</td>\n",
       "      <td>70.0</td>\n",
       "      <td>35.0</td>\n",
       "      <td>23.0</td>\n",
       "      <td>19.0</td>\n",
       "      <td>12.0</td>\n",
       "    </tr>\n",
       "    <tr>\n",
       "      <th>11025</th>\n",
       "      <td>O75KO0KE</td>\n",
       "      <td>0</td>\n",
       "      <td>2163.123333</td>\n",
       "      <td>4702.136000</td>\n",
       "      <td>5497.718333</td>\n",
       "      <td>5497.718333</td>\n",
       "      <td>3060.546000</td>\n",
       "      <td>3945.698333</td>\n",
       "      <td>3567.134680</td>\n",
       "      <td>3710.983357</td>\n",
       "      <td>...</td>\n",
       "      <td>0</td>\n",
       "      <td>0</td>\n",
       "      <td>0</td>\n",
       "      <td>0</td>\n",
       "      <td>13.0</td>\n",
       "      <td>13.0</td>\n",
       "      <td>5.0</td>\n",
       "      <td>7.0</td>\n",
       "      <td>7.0</td>\n",
       "      <td>4.0</td>\n",
       "    </tr>\n",
       "  </tbody>\n",
       "</table>\n",
       "<p>7 rows × 2395 columns</p>\n",
       "</div>"
      ],
      "text/plain": [
       "           Col1  Col2          Col3          Col4          Col5          Col6  \\\n",
       "123    92VUOOQ5     0   3696.020000   4144.623333   4144.623333   8289.246667   \n",
       "264    AYEUUCK9     0  10395.423330  10820.044000   9016.703333   9016.703333   \n",
       "3151   7NYWGOSR     1   1371.333333    543.169167    543.169167   1086.338333   \n",
       "5926   O9LRG15E     0   7797.460000   4441.111111   3997.000000   6661.666667   \n",
       "7002   O9GO5SQG     0  41676.546670  17637.871000  17569.688180  29396.451670   \n",
       "8327   O9YUQMZR     1   8360.530000   6759.134444   8397.253000   8111.680000   \n",
       "11025  O75KO0KE     0   2163.123333   4702.136000   5497.718333   5497.718333   \n",
       "\n",
       "               Col7          Col8          Col9         Col10  ...  Col2388  \\\n",
       "123     4576.208333   9152.416667   7212.101981   8346.992778  ...        0   \n",
       "264    27955.754000  23296.461670   4160.358618   5540.674809  ...        1   \n",
       "3151    1075.810833   2151.621667    787.403397    806.182414  ...        1   \n",
       "5926   25923.072220  38884.608330   4642.237588   4187.146144  ...        1   \n",
       "7002   22667.190000  37778.650000  18102.749480  14160.168690  ...        0   \n",
       "8327   10005.648890  10223.306670   4197.653445   2122.712434  ...        0   \n",
       "11025   3060.546000   3945.698333   3567.134680   3710.983357  ...        0   \n",
       "\n",
       "       Col2389  Col2390  Col2391  Col2392  Col2393  Col2394  Col2395  Col2396  \\\n",
       "123          0        0        0     29.0     29.0     24.0     12.0     12.0   \n",
       "264          0        1        2     52.0     52.0     32.0     12.0     12.0   \n",
       "3151         1        2        2     75.0     75.0     41.0     51.0     51.0   \n",
       "5926         3        1        3    111.0    111.0     72.0     29.0     29.0   \n",
       "7002         0        0        0     54.0     54.0     45.0     24.0     24.0   \n",
       "8327         0        0        0     75.0     70.0     35.0     23.0     19.0   \n",
       "11025        0        0        0     13.0     13.0      5.0      7.0      7.0   \n",
       "\n",
       "       Col2397  \n",
       "123        8.0  \n",
       "264        7.0  \n",
       "3151      32.0  \n",
       "5926      16.0  \n",
       "7002      20.0  \n",
       "8327      12.0  \n",
       "11025      4.0  \n",
       "\n",
       "[7 rows x 2395 columns]"
      ]
     },
     "execution_count": 20,
     "metadata": {},
     "output_type": "execute_result"
    }
   ],
   "source": [
    "data_train[~data_train[\"Col463\"].isna()]\n",
    "data_train[~data_train[\"Col266\"].isna()]\n",
    "data_train[~data_train[\"Col288\"].isna()]\n",
    "data_train[~data_train[\"Col485\"].isna()]\n",
    "data_train[~data_train[\"Col724\"].isna()]\n",
    "data_train[~data_train[\"Col813\"].isna()]\n",
    "#In the below output we can find only 2 \"1\" class and 5 \"0\" class\n",
    "#so here col463 is not important"
   ]
  },
  {
   "cell_type": "code",
   "execution_count": null,
   "metadata": {},
   "outputs": [],
   "source": [
    "data_train[(data_train[\"Col463\"].isna()) & (data_train[\"Col2\"]==1)][[\"Col2\",\"Col463\"]]"
   ]
  },
  {
   "cell_type": "code",
   "execution_count": null,
   "metadata": {},
   "outputs": [],
   "source": []
  },
  {
   "cell_type": "code",
   "execution_count": null,
   "metadata": {},
   "outputs": [],
   "source": []
  },
  {
   "cell_type": "code",
   "execution_count": null,
   "metadata": {},
   "outputs": [],
   "source": []
  },
  {
   "cell_type": "markdown",
   "metadata": {},
   "source": [
    "# Creating  a data set with both 1 and 0 class as same weightage"
   ]
  },
  {
   "cell_type": "code",
   "execution_count": 3,
   "metadata": {},
   "outputs": [],
   "source": [
    "na_droped_train = data_train.dropna(axis=1)"
   ]
  },
  {
   "cell_type": "code",
   "execution_count": 4,
   "metadata": {},
   "outputs": [
    {
     "data": {
      "text/plain": [
       "(17521, 1636)"
      ]
     },
     "execution_count": 4,
     "metadata": {},
     "output_type": "execute_result"
    }
   ],
   "source": [
    "na_droped_train.shape"
   ]
  },
  {
   "cell_type": "code",
   "execution_count": 5,
   "metadata": {},
   "outputs": [
    {
     "data": {
      "text/plain": [
       "0    15760\n",
       "1     1761\n",
       "Name: Col2, dtype: int64"
      ]
     },
     "execution_count": 5,
     "metadata": {},
     "output_type": "execute_result"
    }
   ],
   "source": [
    "na_droped_train[\"Col2\"].value_counts()"
   ]
  },
  {
   "cell_type": "code",
   "execution_count": 8,
   "metadata": {},
   "outputs": [
    {
     "data": {
      "text/plain": [
       "0    15760\n",
       "1     1761\n",
       "Name: Col2, dtype: int64"
      ]
     },
     "execution_count": 8,
     "metadata": {},
     "output_type": "execute_result"
    }
   ],
   "source": [
    "data_train[\"Col2\"].value_counts()"
   ]
  },
  {
   "cell_type": "code",
   "execution_count": 6,
   "metadata": {},
   "outputs": [],
   "source": [
    "na_droped_train_ones = na_droped_train[na_droped_train[\"Col2\"]==1]"
   ]
  },
  {
   "cell_type": "code",
   "execution_count": 7,
   "metadata": {
    "scrolled": true
   },
   "outputs": [
    {
     "data": {
      "text/plain": [
       "(1761, 1636)"
      ]
     },
     "execution_count": 7,
     "metadata": {},
     "output_type": "execute_result"
    }
   ],
   "source": [
    "na_droped_train_ones.shape"
   ]
  },
  {
   "cell_type": "code",
   "execution_count": 8,
   "metadata": {},
   "outputs": [],
   "source": [
    "na_droped_train_zeros = na_droped_train[na_droped_train[\"Col2\"]==0]"
   ]
  },
  {
   "cell_type": "code",
   "execution_count": 9,
   "metadata": {},
   "outputs": [
    {
     "data": {
      "text/plain": [
       "(15760, 1636)"
      ]
     },
     "execution_count": 9,
     "metadata": {},
     "output_type": "execute_result"
    }
   ],
   "source": [
    "na_droped_train_zeros.shape"
   ]
  },
  {
   "cell_type": "code",
   "execution_count": 10,
   "metadata": {},
   "outputs": [],
   "source": [
    "final_df = na_droped_train_ones.append(na_droped_train_zeros.sample(n=7880))"
   ]
  },
  {
   "cell_type": "code",
   "execution_count": 11,
   "metadata": {},
   "outputs": [
    {
     "data": {
      "text/plain": [
       "0    7880\n",
       "1    1761\n",
       "Name: Col2, dtype: int64"
      ]
     },
     "execution_count": 11,
     "metadata": {},
     "output_type": "execute_result"
    }
   ],
   "source": [
    "final_df[\"Col2\"].value_counts()"
   ]
  },
  {
   "cell_type": "code",
   "execution_count": 66,
   "metadata": {},
   "outputs": [],
   "source": [
    "clf1 = DecisionTreeClassifier(random_state=21,class_weight=\"balanced\")\n",
    "clf2 = RandomForestClassifier(random_state=21,bootstrap = False, max_features =  10, n_estimators =  1000,class_weight=\"balanced_subsample\")\n",
    "clf3 = ExtraTreeClassifier(random_state=21,max_features=  2,class_weight=\"balanced\")\n",
    "clf4 = LogisticRegression(class_weight=\"balanced\")\n",
    "clf5 = GaussianNB()\n",
    "clf6 = MLPClassifier(hidden_layer_sizes=(500,500,150,10),activation=\"relu\",solver=\"adam\",learning_rate=\"adaptive\",max_iter=100)\n",
    "# clf7 = SVC(class_weight=\"balanced\")\n",
    "clf8 = BernoulliNB()\n",
    "# clf4 = lgb.train(params, d_train, 100)\n",
    "# clf4 = LogisticRegression"
   ]
  },
  {
   "cell_type": "code",
   "execution_count": 67,
   "metadata": {},
   "outputs": [],
   "source": [
    "vclf = VotingClassifier(voting=\"soft\",n_jobs=-1,estimators=[(\"dt\",clf1),(\"rf\",clf2),(\"et\",clf3),(\"lr\",clf4),(\"gnb\",clf5),(\"mlp\",clf6),(\"bnb\",clf8)])"
   ]
  },
  {
   "cell_type": "code",
   "execution_count": 14,
   "metadata": {},
   "outputs": [],
   "source": [
    "y = final_df[\"Col2\"]\n",
    "X=final_df.drop(columns=[\"Col2\",\"Col1\"])"
   ]
  },
  {
   "cell_type": "code",
   "execution_count": 15,
   "metadata": {},
   "outputs": [
    {
     "name": "stdout",
     "output_type": "stream",
     "text": [
      "(9641,) (9641, 1634)\n"
     ]
    }
   ],
   "source": [
    "print(y.shape,X.shape)"
   ]
  },
  {
   "cell_type": "code",
   "execution_count": 69,
   "metadata": {},
   "outputs": [
    {
     "data": {
      "text/plain": [
       "VotingClassifier(estimators=[('dt',\n",
       "                              DecisionTreeClassifier(class_weight='balanced',\n",
       "                                                     criterion='gini',\n",
       "                                                     max_depth=None,\n",
       "                                                     max_features=None,\n",
       "                                                     max_leaf_nodes=None,\n",
       "                                                     min_impurity_decrease=0.0,\n",
       "                                                     min_impurity_split=None,\n",
       "                                                     min_samples_leaf=1,\n",
       "                                                     min_samples_split=2,\n",
       "                                                     min_weight_fraction_leaf=0.0,\n",
       "                                                     presort=False,\n",
       "                                                     random_state=21,\n",
       "                                                     splitter='best')),\n",
       "                             ('rf',\n",
       "                              RandomForestClassifier(boo...\n",
       "                                            learning_rate_init=0.001,\n",
       "                                            max_iter=100, momentum=0.9,\n",
       "                                            n_iter_no_change=10,\n",
       "                                            nesterovs_momentum=True,\n",
       "                                            power_t=0.5, random_state=None,\n",
       "                                            shuffle=True, solver='adam',\n",
       "                                            tol=0.0001, validation_fraction=0.1,\n",
       "                                            verbose=False, warm_start=False)),\n",
       "                             ('bnb',\n",
       "                              BernoulliNB(alpha=1.0, binarize=0.0,\n",
       "                                          class_prior=None, fit_prior=True))],\n",
       "                 flatten_transform=True, n_jobs=-1, voting='soft',\n",
       "                 weights=None)"
      ]
     },
     "execution_count": 69,
     "metadata": {},
     "output_type": "execute_result"
    }
   ],
   "source": [
    "vclf.fit(transformed_X,y)"
   ]
  },
  {
   "cell_type": "code",
   "execution_count": 20,
   "metadata": {},
   "outputs": [],
   "source": [
    "vclf.weights"
   ]
  },
  {
   "cell_type": "code",
   "execution_count": 21,
   "metadata": {},
   "outputs": [
    {
     "name": "stderr",
     "output_type": "stream",
     "text": [
      "/home/whirldata/py35/lib/python3.5/site-packages/IPython/core/interactiveshell.py:3044: DtypeWarning:\n",
      "\n",
      "Columns (700,731,740,752,761,789,811,820,829,841,850) have mixed types. Specify dtype option on import or set low_memory=False.\n",
      "\n"
     ]
    }
   ],
   "source": [
    "test_data = pd.read_csv(\"Test.csv\")"
   ]
  },
  {
   "cell_type": "code",
   "execution_count": 22,
   "metadata": {},
   "outputs": [],
   "source": [
    "no_na_test = test_data.dropna(axis=1)"
   ]
  },
  {
   "cell_type": "code",
   "execution_count": 23,
   "metadata": {},
   "outputs": [],
   "source": [
    "id_cols = list(no_na_test[\"Col1\"])"
   ]
  },
  {
   "cell_type": "code",
   "execution_count": 24,
   "metadata": {},
   "outputs": [],
   "source": [
    "tets = no_na_test.drop(columns=\"Col1\")"
   ]
  },
  {
   "cell_type": "code",
   "execution_count": 70,
   "metadata": {},
   "outputs": [],
   "source": [
    "Y_pred = list(vclf.predict(transformed_X_test))\n",
    "# Y_pred = list(clf.predict(tets))"
   ]
  },
  {
   "cell_type": "markdown",
   "metadata": {},
   "source": [
    "#### First 1 class and 0 class count with voting classfier 1=7558, 0=12884\n",
    "#### Second 1 class and 0 class count with voting classfier 1=1959, 0=18483\n",
    "#### Third this time voting classifier is used with 8 classifiers and dataset has 0 class count = 7880, 1 class count = 1761 [1=1327,0=19115]\n",
    "#### LDA with same above train data gives 0=1511,1=18931\n",
    "#### voting classifier after standard scalling  1=2863 and 0= 17579"
   ]
  },
  {
   "cell_type": "code",
   "execution_count": 71,
   "metadata": {},
   "outputs": [
    {
     "data": {
      "text/plain": [
       "2863"
      ]
     },
     "execution_count": 71,
     "metadata": {},
     "output_type": "execute_result"
    }
   ],
   "source": [
    "Y_pred.count(1)"
   ]
  },
  {
   "cell_type": "code",
   "execution_count": 72,
   "metadata": {},
   "outputs": [
    {
     "data": {
      "text/plain": [
       "17579"
      ]
     },
     "execution_count": 72,
     "metadata": {},
     "output_type": "execute_result"
    }
   ],
   "source": [
    "Y_pred.count(0)"
   ]
  },
  {
   "cell_type": "code",
   "execution_count": 73,
   "metadata": {},
   "outputs": [],
   "source": [
    "final_sub= pd.DataFrame(columns=[\"Col1\",\"Col2\"])\n",
    "\n",
    "final_sub[\"Col1\"]=id_cols\n",
    "\n",
    "final_sub[\"Col2\"]=Y_pred"
   ]
  },
  {
   "cell_type": "code",
   "execution_count": 75,
   "metadata": {},
   "outputs": [],
   "source": [
    "final_sub.to_csv(\"Submission5_ld.csv\",index=False)"
   ]
  },
  {
   "cell_type": "code",
   "execution_count": 86,
   "metadata": {},
   "outputs": [
    {
     "name": "stdout",
     "output_type": "stream",
     "text": [
      "Using voting classfier gives =  71.36949\n"
     ]
    }
   ],
   "source": [
    "print(\"Using voting classfier gives = \",71.36949)"
   ]
  },
  {
   "cell_type": "code",
   "execution_count": null,
   "metadata": {},
   "outputs": [],
   "source": [
    "print(\"Using voting classifier with grid search params tuning = \",)"
   ]
  },
  {
   "cell_type": "code",
   "execution_count": null,
   "metadata": {},
   "outputs": [],
   "source": []
  },
  {
   "cell_type": "code",
   "execution_count": null,
   "metadata": {},
   "outputs": [],
   "source": []
  },
  {
   "cell_type": "code",
   "execution_count": 79,
   "metadata": {},
   "outputs": [],
   "source": [
    "import lightgbm as lgb\n",
    "d_train = lgb.Dataset(transformed_X, label=y)\n",
    "params = {}\n",
    "params['learning_rate'] = 0.003\n",
    "params['boosting_type'] = 'gbdt'\n",
    "params['objective'] = 'binary'\n",
    "params['metric'] = 'binary_logloss'\n",
    "params['sub_feature'] = 0.5\n",
    "params['num_leaves'] = 10\n",
    "params['min_data'] = 50\n",
    "params['max_depth'] = 10\n",
    "clf = lgb.train(params, d_train, 100)\n",
    "\n",
    "\n",
    "#params\n",
    "# params = {}\n",
    "# params['max_bin'] = 10\n",
    "# params['learning_rate'] = LEARNING_RATE # shrinkage_rate\n",
    "# params['boosting_type'] = 'gbdt'\n",
    "# params['objective'] = 'binary'\n",
    "# params['metric'] = 'l1'          # or 'mae'\n",
    "# params['sub_feature'] = 0.50      # feature_fraction \n",
    "# params['bagging_fraction'] = 0.85 # sub_row\n",
    "# params['bagging_freq'] = 40\n",
    "# params['num_leaves'] = 512        # num_leaf\n",
    "# params['min_data'] = 500         # min_data_in_leaf\n",
    "# params['min_hessian'] = 0.05     # min_sum_hessian_in_leaf\n",
    "# params['verbose'] = 0\n",
    "# clf = lgb.train(params, d_train, 100)\n",
    "\n",
    "# N_FOLDS = 5\n",
    "# MAX_BOOST_ROUNDS = 700\n",
    "# LEARNING_RATE = .0022\n",
    "\n",
    "# lgb_cv = lgb.cv(params, d_train, num_boost_round=MAX_BOOST_ROUNDS, nfold=N_FOLDS,verbose_eval=20, early_stopping_rounds=40)\n",
    "\n",
    "# params"
   ]
  },
  {
   "cell_type": "markdown",
   "metadata": {},
   "source": [
    "# tying grid search cv for random forest"
   ]
  },
  {
   "cell_type": "code",
   "execution_count": 97,
   "metadata": {},
   "outputs": [],
   "source": [
    "param_grid = [\n",
    "{'bootstrap': [False], 'n_estimators': [100, 500, 1000, 2000], 'max_features': [2, 3, 4,10,50]},\n",
    "]"
   ]
  },
  {
   "cell_type": "code",
   "execution_count": 98,
   "metadata": {},
   "outputs": [],
   "source": [
    "rfc = RandomForestClassifier(random_state=21,n_jobs=-1)"
   ]
  },
  {
   "cell_type": "code",
   "execution_count": 99,
   "metadata": {},
   "outputs": [],
   "source": [
    "gird_search  = GridSearchCV(rfc,param_grid,scoring=\"accuracy\")"
   ]
  },
  {
   "cell_type": "code",
   "execution_count": 100,
   "metadata": {},
   "outputs": [
    {
     "name": "stderr",
     "output_type": "stream",
     "text": [
      "/home/whirldata/py35/lib/python3.5/site-packages/sklearn/model_selection/_split.py:1978: FutureWarning:\n",
      "\n",
      "The default value of cv will change from 3 to 5 in version 0.22. Specify it explicitly to silence this warning.\n",
      "\n"
     ]
    },
    {
     "data": {
      "text/plain": [
       "GridSearchCV(cv='warn', error_score='raise-deprecating',\n",
       "             estimator=RandomForestClassifier(bootstrap=True, class_weight=None,\n",
       "                                              criterion='gini', max_depth=None,\n",
       "                                              max_features='auto',\n",
       "                                              max_leaf_nodes=None,\n",
       "                                              min_impurity_decrease=0.0,\n",
       "                                              min_impurity_split=None,\n",
       "                                              min_samples_leaf=1,\n",
       "                                              min_samples_split=2,\n",
       "                                              min_weight_fraction_leaf=0.0,\n",
       "                                              n_estimators='warn', n_jobs=-1,\n",
       "                                              oob_score=False, random_state=21,\n",
       "                                              verbose=0, warm_start=False),\n",
       "             iid='warn', n_jobs=None,\n",
       "             param_grid=[{'bootstrap': [False],\n",
       "                          'max_features': [2, 3, 4, 10, 50],\n",
       "                          'n_estimators': [100, 500, 1000, 2000]}],\n",
       "             pre_dispatch='2*n_jobs', refit=True, return_train_score=False,\n",
       "             scoring='accuracy', verbose=0)"
      ]
     },
     "execution_count": 100,
     "metadata": {},
     "output_type": "execute_result"
    }
   ],
   "source": [
    "gird_search.fit(X,y)"
   ]
  },
  {
   "cell_type": "code",
   "execution_count": 101,
   "metadata": {},
   "outputs": [
    {
     "data": {
      "text/plain": [
       "{'bootstrap': False, 'max_features': 10, 'n_estimators': 1000}"
      ]
     },
     "execution_count": 101,
     "metadata": {},
     "output_type": "execute_result"
    }
   ],
   "source": [
    "gird_search.best_params_"
   ]
  },
  {
   "cell_type": "code",
   "execution_count": 94,
   "metadata": {},
   "outputs": [
    {
     "data": {
      "text/plain": [
       "0.7405709214613223"
      ]
     },
     "execution_count": 94,
     "metadata": {},
     "output_type": "execute_result"
    }
   ],
   "source": [
    "gird_search.best_score_"
   ]
  },
  {
   "cell_type": "code",
   "execution_count": 95,
   "metadata": {},
   "outputs": [
    {
     "data": {
      "text/plain": [
       "'accuracy'"
      ]
     },
     "execution_count": 95,
     "metadata": {},
     "output_type": "execute_result"
    }
   ],
   "source": [
    "gird_search.scoring"
   ]
  },
  {
   "cell_type": "code",
   "execution_count": 110,
   "metadata": {},
   "outputs": [],
   "source": [
    "para_grid = [\n",
    "{'max_features': [2, 3, 4,10,50]},\n",
    "]\n",
    "etc = ExtraTreeClassifier(random_state=21)\n",
    "grid_search  = GridSearchCV(etc,para_grid,scoring=\"accuracy\")"
   ]
  },
  {
   "cell_type": "code",
   "execution_count": 111,
   "metadata": {},
   "outputs": [
    {
     "name": "stderr",
     "output_type": "stream",
     "text": [
      "/home/whirldata/py35/lib/python3.5/site-packages/sklearn/model_selection/_split.py:1978: FutureWarning:\n",
      "\n",
      "The default value of cv will change from 3 to 5 in version 0.22. Specify it explicitly to silence this warning.\n",
      "\n"
     ]
    },
    {
     "data": {
      "text/plain": [
       "GridSearchCV(cv='warn', error_score='raise-deprecating',\n",
       "             estimator=ExtraTreeClassifier(class_weight=None, criterion='gini',\n",
       "                                           max_depth=None, max_features='auto',\n",
       "                                           max_leaf_nodes=None,\n",
       "                                           min_impurity_decrease=0.0,\n",
       "                                           min_impurity_split=None,\n",
       "                                           min_samples_leaf=1,\n",
       "                                           min_samples_split=2,\n",
       "                                           min_weight_fraction_leaf=0.0,\n",
       "                                           random_state=21, splitter='random'),\n",
       "             iid='warn', n_jobs=None,\n",
       "             param_grid=[{'max_features': [2, 3, 4, 10, 50]}],\n",
       "             pre_dispatch='2*n_jobs', refit=True, return_train_score=False,\n",
       "             scoring='accuracy', verbose=0)"
      ]
     },
     "execution_count": 111,
     "metadata": {},
     "output_type": "execute_result"
    }
   ],
   "source": [
    "grid_search.fit(X,y)"
   ]
  },
  {
   "cell_type": "code",
   "execution_count": 112,
   "metadata": {},
   "outputs": [
    {
     "data": {
      "text/plain": [
       "0.6494601390326875"
      ]
     },
     "execution_count": 112,
     "metadata": {},
     "output_type": "execute_result"
    }
   ],
   "source": [
    "grid_search.best_score_"
   ]
  },
  {
   "cell_type": "code",
   "execution_count": 116,
   "metadata": {},
   "outputs": [
    {
     "data": {
      "text/plain": [
       "{'max_features': 2}"
      ]
     },
     "execution_count": 116,
     "metadata": {},
     "output_type": "execute_result"
    }
   ],
   "source": [
    "grid_search.best_params_"
   ]
  },
  {
   "cell_type": "code",
   "execution_count": null,
   "metadata": {},
   "outputs": [],
   "source": []
  },
  {
   "cell_type": "code",
   "execution_count": null,
   "metadata": {},
   "outputs": [],
   "source": []
  },
  {
   "cell_type": "markdown",
   "metadata": {},
   "source": [
    "# LDA"
   ]
  },
  {
   "cell_type": "code",
   "execution_count": 31,
   "metadata": {},
   "outputs": [],
   "source": [
    "from sklearn.discriminant_analysis import LinearDiscriminantAnalysis as LDA"
   ]
  },
  {
   "cell_type": "code",
   "execution_count": 42,
   "metadata": {},
   "outputs": [],
   "source": [
    "sc =StandardScaler()"
   ]
  },
  {
   "cell_type": "code",
   "execution_count": 43,
   "metadata": {},
   "outputs": [],
   "source": [
    "transformed_X =  sc.fit_transform(X)"
   ]
  },
  {
   "cell_type": "code",
   "execution_count": 44,
   "metadata": {},
   "outputs": [],
   "source": [
    "clf =LDA()"
   ]
  },
  {
   "cell_type": "code",
   "execution_count": 45,
   "metadata": {},
   "outputs": [
    {
     "name": "stderr",
     "output_type": "stream",
     "text": [
      "/home/whirldata/py35/lib/python3.5/site-packages/sklearn/discriminant_analysis.py:388: UserWarning:\n",
      "\n",
      "Variables are collinear.\n",
      "\n"
     ]
    },
    {
     "data": {
      "text/plain": [
       "LinearDiscriminantAnalysis(n_components=None, priors=None, shrinkage=None,\n",
       "                           solver='svd', store_covariance=False, tol=0.0001)"
      ]
     },
     "execution_count": 45,
     "metadata": {},
     "output_type": "execute_result"
    }
   ],
   "source": [
    "clf.fit(X,y)"
   ]
  },
  {
   "cell_type": "code",
   "execution_count": 56,
   "metadata": {},
   "outputs": [],
   "source": [
    "transformed_X_test = sc.transform(tets)"
   ]
  },
  {
   "cell_type": "code",
   "execution_count": null,
   "metadata": {},
   "outputs": [],
   "source": []
  }
 ],
 "metadata": {
  "kernelspec": {
   "display_name": "Python 3",
   "language": "python",
   "name": "python3"
  },
  "language_info": {
   "codemirror_mode": {
    "name": "ipython",
    "version": 3
   },
   "file_extension": ".py",
   "mimetype": "text/x-python",
   "name": "python",
   "nbconvert_exporter": "python",
   "pygments_lexer": "ipython3",
   "version": "3.5.2"
  }
 },
 "nbformat": 4,
 "nbformat_minor": 2
}
